{
 "cells": [
  {
   "cell_type": "code",
   "execution_count": 1,
   "id": "c038e51c-db26-469e-9a36-0ed0b5fd05cd",
   "metadata": {},
   "outputs": [
    {
     "name": "stdout",
     "output_type": "stream",
     "text": [
      "Initialized empty Git repository in D:/document/AIproject/jupyter/.git/\n"
     ]
    }
   ],
   "source": [
    "!git init"
   ]
  },
  {
   "cell_type": "code",
   "execution_count": 2,
   "id": "38e2e974-a99c-468a-a3f0-d47321a8884c",
   "metadata": {},
   "outputs": [
    {
     "name": "stderr",
     "output_type": "stream",
     "text": [
      "warning: in the working copy of 'Crawling.ipynb', LF will be replaced by CRLF the next time Git touches it\n"
     ]
    }
   ],
   "source": [
    "!git add Crawling.ipynb"
   ]
  },
  {
   "cell_type": "code",
   "execution_count": 3,
   "id": "99bd7b37-100c-42cf-87e1-3ce2628fc430",
   "metadata": {},
   "outputs": [
    {
     "name": "stderr",
     "output_type": "stream",
     "text": [
      "Author identity unknown\n",
      "\n",
      "*** Please tell me who you are.\n",
      "\n",
      "Run\n",
      "\n",
      "  git config --global user.email \"you@example.com\"\n",
      "  git config --global user.name \"Your Name\"\n",
      "\n",
      "to set your account's default identity.\n",
      "Omit --global to set the identity only in this repository.\n",
      "\n",
      "fatal: unable to auto-detect email address (got 'exile@DESKTOP-2E38CA8.(none)')\n"
     ]
    }
   ],
   "source": [
    "!git commit -m \"첫 커밋\""
   ]
  },
  {
   "cell_type": "code",
   "execution_count": 5,
   "id": "706a1f8d-843c-41bf-b2ae-2fbdd54b1145",
   "metadata": {},
   "outputs": [],
   "source": [
    "!git config --global user.email \"exile175r@gmail.com\"\n",
    "!git config --global user.name \"이희승\""
   ]
  },
  {
   "cell_type": "code",
   "execution_count": 6,
   "id": "528db0f7-5571-446d-b2d0-8cc3a40d134c",
   "metadata": {},
   "outputs": [
    {
     "name": "stdout",
     "output_type": "stream",
     "text": [
      "[master (root-commit) aa780c0] 泥� 而ㅻ컠\n",
      " 1 file changed, 23 insertions(+)\n",
      " create mode 100644 Crawling.ipynb\n"
     ]
    }
   ],
   "source": [
    "!git commit -m \"첫 커밋\""
   ]
  },
  {
   "cell_type": "code",
   "execution_count": 7,
   "id": "a813a2cb-0ea2-4a60-a616-ae822bcf7aa3",
   "metadata": {},
   "outputs": [
    {
     "name": "stdout",
     "output_type": "stream",
     "text": [
      "commit aa780c0e322a3314aa6f38d29f4276f541adea35\n",
      "Author: �씠�씗�듅 <exile175r@gmail.com>\n",
      "Date:   Mon Sep 30 21:26:21 2024 +0900\n",
      "\n",
      "    泥� 而ㅻ컠\n"
     ]
    }
   ],
   "source": [
    "!git log"
   ]
  },
  {
   "cell_type": "code",
   "execution_count": null,
   "id": "eface4ec-6bf7-467e-b2ce-987bfa1915ee",
   "metadata": {},
   "outputs": [],
   "source": []
  }
 ],
 "metadata": {
  "kernelspec": {
   "display_name": "Python 3 (ipykernel)",
   "language": "python",
   "name": "python3"
  },
  "language_info": {
   "codemirror_mode": {
    "name": "ipython",
    "version": 3
   },
   "file_extension": ".py",
   "mimetype": "text/x-python",
   "name": "python",
   "nbconvert_exporter": "python",
   "pygments_lexer": "ipython3",
   "version": "3.10.11"
  }
 },
 "nbformat": 4,
 "nbformat_minor": 5
}

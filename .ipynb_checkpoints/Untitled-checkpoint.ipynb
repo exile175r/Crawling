{
 "cells": [
  {
   "cell_type": "code",
   "execution_count": null,
   "id": "cfba5d88-812a-4d8c-8f21-461f7c58aee1",
   "metadata": {},
   "outputs": [],
   "source": []
  }
 ],
 "metadata": {
  "kernelspec": {
   "display_name": "Python 3 (ipykernel)",
   "language": "python",
   "name": "python3"
  },
  "language_info": {
   "codemirror_mode": {
    "name": "ipython",
    "version": 3
   },
   "file_extension": ".py",
   "mimetype": "text/x-python",
   "name": "python",
   "nbconvert_exporter": "python",
   "pygments_lexer": "ipython3",
   "version": "3.10.11"
  }
 },
 "nbformat": 4,
 "nbformat_minor": 5
}
